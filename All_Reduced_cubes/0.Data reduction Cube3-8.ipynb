{
 "cells": [
  {
   "cell_type": "markdown",
   "id": "97edd6d3",
   "metadata": {},
   "source": [
    "## Instructions:\n",
    "### get spectra data of one galaxy \n",
    "* Use center position $skycord$\n",
    "* creating subcube with size c $\\pm 50$ pixel (100 $\\times$ 100 )\n",
    "  >Creating a New FITS File with name *coord_small.fits*\n"
   ]
  },
  {
   "cell_type": "code",
   "execution_count": 1,
   "id": "d006a3fe",
   "metadata": {},
   "outputs": [],
   "source": [
    "import numpy as np\n",
    "import matplotlib.pyplot as plt\n",
    "import astropy.units as u\n",
    "from mpdaf.obj import Cube, WCS, WaveCoord\n",
    "#from astropy import units as u\n",
    "from astropy.coordinates import SkyCoord\n",
    "#%matplotlib notebook \n",
    "%matplotlib inline "
   ]
  },
  {
   "cell_type": "markdown",
   "id": "0ab685fa",
   "metadata": {},
   "source": [
    "### 4C+19.71"
   ]
  },
  {
   "cell_type": "code",
   "execution_count": 8,
   "id": "af3bd398",
   "metadata": {},
   "outputs": [
    {
     "name": "stdout",
     "output_type": "stream",
     "text": [
      "degree =<SkyCoord (ICRS): (ra, dec) in deg\n",
      "    (326.0315, 19.48738889)>\n"
     ]
    }
   ],
   "source": [
    "c = SkyCoord('21h44m07.56s', '+19d29m14.6s', frame='icrs')\n",
    "print('degree ={}'.format(c))"
   ]
  },
  {
   "cell_type": "code",
   "execution_count": 9,
   "id": "833996fe",
   "metadata": {
    "scrolled": true
   },
   "outputs": [],
   "source": [
    "RG3 = Cube('/Users/Ray/Desktop/Uni/8.Bachelorarbeit/Data/Cubes.2023/DATACUBE_4C19_ZAPmask_pipesky_fullFOV_mad_AstroGaia_varscaled_corr_zero.fits')\n",
    "#RG3.info()"
   ]
  },
  {
   "cell_type": "code",
   "execution_count": 10,
   "id": "8206c9a4",
   "metadata": {},
   "outputs": [
    {
     "name": "stdout",
     "output_type": "stream",
     "text": [
      "167 147\n"
     ]
    }
   ],
   "source": [
    "ra, dec = (326.0315, 19.48738889)\n",
    "pix = RG3.wcs.sky2pix([dec,ra], unit=u.deg) \n",
    "x = int(np.around(pix[0][1]))\n",
    "y = int(np.around(pix[0][0]))\n",
    "print(y,x)\n",
    "#make a copy of the (sub-)cube, prevent changing the original cube\n",
    "cube_new_3 = RG3.copy()"
   ]
  },
  {
   "cell_type": "code",
   "execution_count": null,
   "id": "c9f6aa05",
   "metadata": {},
   "outputs": [],
   "source": [
    "cube_new_3[:,167-50:167+50,147-50:147+50].write('4C+19.71_small.fits', savemask='dq')"
   ]
  },
  {
   "cell_type": "markdown",
   "id": "8f44a881",
   "metadata": {},
   "source": [
    "### MRC 0316-257"
   ]
  },
  {
   "cell_type": "code",
   "execution_count": 3,
   "id": "49d3ba6d",
   "metadata": {},
   "outputs": [
    {
     "name": "stdout",
     "output_type": "stream",
     "text": [
      "degree =<SkyCoord (ICRS): (ra, dec) in deg\n",
      "    (49.55029167, -25.58617222)>\n"
     ]
    }
   ],
   "source": [
    "c = SkyCoord('3h18m12.07s', '-25d35m10.22s', frame='icrs')\n",
    "print('degree ={}'.format(c))"
   ]
  },
  {
   "cell_type": "code",
   "execution_count": 4,
   "id": "9d342d44",
   "metadata": {},
   "outputs": [],
   "source": [
    "RG4 = Cube('/Users/Ray/Desktop/Uni/8.Bachelorarbeit/Data/Cubes.2023/DATACUBE_MRC0316_ZAPmask_pipesky_sigma6_mad_AstroHSTGaia_varscaled_corr_zero.fits')\n",
    "#RG4.info()"
   ]
  },
  {
   "cell_type": "code",
   "execution_count": 5,
   "id": "b1909437",
   "metadata": {},
   "outputs": [
    {
     "name": "stdout",
     "output_type": "stream",
     "text": [
      "189 145\n"
     ]
    }
   ],
   "source": [
    "ra, dec = (49.55029167, -25.58617222)\n",
    "pix = RG4.wcs.sky2pix([dec,ra], unit=u.deg) \n",
    "x = int(np.around(pix[0][1]))\n",
    "y = int(np.around(pix[0][0]))\n",
    "print(y,x)\n",
    "#make a copy of the (sub-)cube, prevent changing the original cube\n"
   ]
  },
  {
   "cell_type": "code",
   "execution_count": 7,
   "id": "f81334e0",
   "metadata": {},
   "outputs": [],
   "source": [
    "cube_new_4 = RG4.copy()\n",
    "cube_new_4[:,189-50:189+50,145-50:145+50].write('MRC0316_small.fits', savemask='dq')"
   ]
  },
  {
   "cell_type": "markdown",
   "id": "6934864f",
   "metadata": {},
   "source": [
    "### MRC 0943-242"
   ]
  },
  {
   "cell_type": "code",
   "execution_count": 2,
   "id": "f3af36b6",
   "metadata": {},
   "outputs": [
    {
     "name": "stdout",
     "output_type": "stream",
     "text": [
      "degree =<SkyCoord (ICRS): (ra, dec) in deg\n",
      "    (146.386375, -24.48045833)>\n"
     ]
    }
   ],
   "source": [
    "c = SkyCoord('9h45m32.73s', '-24d28m49.65s', frame='icrs')\n",
    "print('degree ={}'.format(c))"
   ]
  },
  {
   "cell_type": "code",
   "execution_count": 3,
   "id": "de96f958",
   "metadata": {},
   "outputs": [],
   "source": [
    "RG5 = Cube('/Users/Ray/Desktop/Uni/8.Bachelorarbeit/Data/Cubes.2023/DATACUBE_MRC0943_ZAPmask_pipesky_sigma6_mad_v1_AstroGaia_varscaled_corr_zero.fits')\n",
    "#RG5.info()"
   ]
  },
  {
   "cell_type": "code",
   "execution_count": 4,
   "id": "59adc28d",
   "metadata": {},
   "outputs": [
    {
     "name": "stdout",
     "output_type": "stream",
     "text": [
      "212 158\n"
     ]
    }
   ],
   "source": [
    "ra, dec = (146.386375, -24.48045833)\n",
    "pix = RG5.wcs.sky2pix([dec,ra], unit=u.deg) \n",
    "x = int(np.around(pix[0][1]))\n",
    "y = int(np.around(pix[0][0]))\n",
    "print(y,x)\n",
    "#make a copy of the (sub-)cube, prevent changing the original cube"
   ]
  },
  {
   "cell_type": "code",
   "execution_count": 5,
   "id": "4c19521b",
   "metadata": {},
   "outputs": [],
   "source": [
    "cube_new_5 = RG5.copy()\n",
    "cube_new_5[:,212-50:212+50,158-50:158+50].write('MRC0943_small.fits', savemask='dq')"
   ]
  },
  {
   "cell_type": "markdown",
   "id": "5f8a8e1a",
   "metadata": {},
   "source": [
    "### TN J0121+1320"
   ]
  },
  {
   "cell_type": "code",
   "execution_count": 2,
   "id": "6cde5f18",
   "metadata": {},
   "outputs": [
    {
     "name": "stdout",
     "output_type": "stream",
     "text": [
      "degree =<SkyCoord (ICRS): (ra, dec) in deg\n",
      "    (20.42804167, 13.34944444)>\n"
     ]
    }
   ],
   "source": [
    "c = SkyCoord('1h21m42.73s', '13d20m58.0s', frame='icrs')\n",
    "print('degree ={}'.format(c))"
   ]
  },
  {
   "cell_type": "code",
   "execution_count": 3,
   "id": "8f105f5e",
   "metadata": {},
   "outputs": [],
   "source": [
    "RG6 = Cube('/Users/Ray/Desktop/Uni/8.Bachelorarbeit/Data/Cubes.2023/DATACUBE_TNJ0121_ZAPmask_pipesky_fullFOV_mad_10EXP_AstroSDSS_varscaled_corr_zero.fits')\n",
    "#RG6.info()"
   ]
  },
  {
   "cell_type": "code",
   "execution_count": 4,
   "id": "2d627294",
   "metadata": {},
   "outputs": [
    {
     "name": "stdout",
     "output_type": "stream",
     "text": [
      "149 109\n"
     ]
    }
   ],
   "source": [
    "ra, dec = (20.42804167, 13.34944444)\n",
    "pix = RG6.wcs.sky2pix([dec,ra], unit=u.deg) \n",
    "x = int(np.around(pix[0][1]))\n",
    "y = int(np.around(pix[0][0]))\n",
    "print(y,x)\n",
    "#make a copy of the (sub-)cube, prevent changing the original cube"
   ]
  },
  {
   "cell_type": "code",
   "execution_count": 5,
   "id": "16f0df02",
   "metadata": {},
   "outputs": [],
   "source": [
    "cube_new_6 = RG6.copy()\n",
    "cube_new_6[:,149-50:149+50,109-50:109+50].write('TNJ0121_small.fits', savemask='dq')"
   ]
  },
  {
   "cell_type": "markdown",
   "id": "1589279d",
   "metadata": {},
   "source": [
    "### TN J0205+2242"
   ]
  },
  {
   "cell_type": "code",
   "execution_count": 2,
   "id": "bd85c42a",
   "metadata": {},
   "outputs": [
    {
     "name": "stdout",
     "output_type": "stream",
     "text": [
      "degree =<SkyCoord (ICRS): (ra, dec) in deg\n",
      "    (31.29454167, 22.714)>\n"
     ]
    }
   ],
   "source": [
    "c = SkyCoord('2h05m10.69s', '22d42m50.4s', frame='icrs')\n",
    "print('degree ={}'.format(c))"
   ]
  },
  {
   "cell_type": "code",
   "execution_count": 3,
   "id": "70acafef",
   "metadata": {},
   "outputs": [],
   "source": [
    "RG7 = Cube('/Users/Ray/Desktop/Uni/8.Bachelorarbeit/Data/Cubes.2023/DATACUBE_TNJ0205_ZAPmask_pipesky_fullFOV_mad_Astro_scaled_corr_zero.fits')\n",
    "#RG7.info()"
   ]
  },
  {
   "cell_type": "code",
   "execution_count": 4,
   "id": "aff4b111",
   "metadata": {},
   "outputs": [
    {
     "name": "stdout",
     "output_type": "stream",
     "text": [
      "174 174\n"
     ]
    }
   ],
   "source": [
    "ra, dec = (31.29454167, 22.714)\n",
    "pix = RG7.wcs.sky2pix([dec,ra], unit=u.deg) \n",
    "x = int(np.around(pix[0][1]))\n",
    "y = int(np.around(pix[0][0]))\n",
    "print(y,x)\n",
    "#make a copy of the (sub-)cube, prevent changing the original cube"
   ]
  },
  {
   "cell_type": "code",
   "execution_count": 5,
   "id": "501aad8c",
   "metadata": {},
   "outputs": [],
   "source": [
    "cube_new_7 = RG7.copy()\n",
    "cube_new_7[:,174-50:174+50,174-50:174+50].write('TNJ0205_small.fits', savemask='dq')"
   ]
  },
  {
   "cell_type": "markdown",
   "id": "135c9c0e",
   "metadata": {},
   "source": [
    "### TN J1338-1942"
   ]
  },
  {
   "cell_type": "code",
   "execution_count": 2,
   "id": "cefa9f69",
   "metadata": {},
   "outputs": [
    {
     "name": "stdout",
     "output_type": "stream",
     "text": [
      "degree =<SkyCoord (ICRS): (ra, dec) in deg\n",
      "    (204.60875, -19.70863889)>\n"
     ]
    }
   ],
   "source": [
    "c = SkyCoord('13h38m26.10s', '-19d42m31.1s', frame='icrs')\n",
    "print('degree ={}'.format(c))"
   ]
  },
  {
   "cell_type": "code",
   "execution_count": 3,
   "id": "f6184861",
   "metadata": {},
   "outputs": [],
   "source": [
    "# only read the center part of the cube\n",
    "x = 331\n",
    "y = 233\n",
    "RG8 = Cube('/Users/Ray/Desktop/Uni/8.Bachelorarbeit/Data/Cubes.2023/DATACUBE_TNJ1338_ZAPmask_pipesky_mad_AstroGaia_varscaled_corr_zero.fits')[:,y-50:y+50,x-50:x+50]\n",
    "#RG8.info()"
   ]
  },
  {
   "cell_type": "markdown",
   "id": "a9239b9b",
   "metadata": {},
   "source": [
    "ra, dec = (204.60875, -19.70863889)\n",
    "pix = RG8.wcs.sky2pix([dec,ra], unit=u.deg) \n",
    "x = int(np.around(pix[0][1]))\n",
    "y = int(np.around(pix[0][0]))\n",
    "print(y,x)\n"
   ]
  },
  {
   "cell_type": "code",
   "execution_count": 4,
   "id": "59c04d69",
   "metadata": {},
   "outputs": [],
   "source": [
    "#make a copy of the (sub-)cube, prevent changing the original cube\n",
    "#cube_new_8 = RG8.copy()\n",
    "RG8.write('TNJ1338_small.fits', savemask='dq')"
   ]
  },
  {
   "cell_type": "code",
   "execution_count": null,
   "id": "bd866317",
   "metadata": {},
   "outputs": [],
   "source": []
  }
 ],
 "metadata": {
  "kernelspec": {
   "display_name": "Python 3 (ipykernel)",
   "language": "python",
   "name": "python3"
  },
  "language_info": {
   "codemirror_mode": {
    "name": "ipython",
    "version": 3
   },
   "file_extension": ".py",
   "mimetype": "text/x-python",
   "name": "python",
   "nbconvert_exporter": "python",
   "pygments_lexer": "ipython3",
   "version": "3.9.13"
  }
 },
 "nbformat": 4,
 "nbformat_minor": 5
}
